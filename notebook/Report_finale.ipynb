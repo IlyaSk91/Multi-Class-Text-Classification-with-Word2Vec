{
 "cells": [
  {
   "cell_type": "markdown",
   "metadata": {},
   "source": [
    "# Word2vec classification report"
   ]
  },
  {
   "cell_type": "code",
   "execution_count": 2,
   "metadata": {},
   "outputs": [],
   "source": [
    "import pandas as pd \n",
    "from gensim.models import Word2Vec \n",
    "from preprocessing import split_file,clean_text,remove_stopwords,func_lemma,func_container,func_tokenize #preprocessing functions\n",
    "from vectorizer import MeanEmbeddingVectorizer,TfidfEmbeddingVectorizer\n",
    "from matplotlib import pyplot as plt\n",
    "import numpy as np\n",
    "from sklearn.model_selection import train_test_split\n",
    "from sklearn.linear_model import LogisticRegression\n",
    "from sklearn.svm import SVC\n",
    "from sklearn.decomposition import PCA\n",
    "from sklearn.ensemble import RandomForestClassifier\n",
    "from sklearn import preprocessing\n",
    "from sklearn.pipeline import Pipeline\n",
    "from sklearn.metrics import accuracy_score"
   ]
  },
  {
   "cell_type": "code",
   "execution_count": 3,
   "metadata": {},
   "outputs": [],
   "source": [
    "from gensim.models.word2vec import FAST_VERSION \n",
    "FAST_VERSION=1"
   ]
  },
  {
   "cell_type": "code",
   "execution_count": 4,
   "metadata": {},
   "outputs": [],
   "source": [
    "import sys\n",
    "sys.path.append('../lib/')"
   ]
  },
  {
   "cell_type": "markdown",
   "metadata": {},
   "source": [
    "Read file from path using encoding='cp1251'"
   ]
  },
  {
   "cell_type": "code",
   "execution_count": 5,
   "metadata": {},
   "outputs": [],
   "source": [
    "file=[]\n",
    "path=r'rvm.txt' # path to file\n",
    "for string in open(path,'r',encoding='cp1251'):\n",
    "    file.append(string.lower())"
   ]
  },
  {
   "cell_type": "markdown",
   "metadata": {},
   "source": [
    "Train dataset is a newspaper's corpus from http://cfrl.ruslang.ru/newspapers/rv/texts/rvm.txt"
   ]
  },
  {
   "cell_type": "markdown",
   "metadata": {},
   "source": [
    "# Preprocessing data"
   ]
  },
  {
   "cell_type": "markdown",
   "metadata": {},
   "source": [
    "Use split_file function for split text"
   ]
  },
  {
   "cell_type": "code",
   "execution_count": 6,
   "metadata": {},
   "outputs": [],
   "source": [
    "file_split=split_file(file)"
   ]
  },
  {
   "cell_type": "markdown",
   "metadata": {},
   "source": [
    "clean_text function returns clean text without signs in corpus. for example (.,!..?;')"
   ]
  },
  {
   "cell_type": "code",
   "execution_count": 7,
   "metadata": {},
   "outputs": [],
   "source": [
    "text=clean_text([file_split[i][0] for i in range(len(file_split))])"
   ]
  },
  {
   "cell_type": "markdown",
   "metadata": {},
   "source": [
    "remove stop words from dataset using stop_word collections"
   ]
  },
  {
   "cell_type": "code",
   "execution_count": 8,
   "metadata": {},
   "outputs": [],
   "source": [
    "clear_text=remove_stopwords(text)"
   ]
  },
  {
   "cell_type": "markdown",
   "metadata": {},
   "source": [
    "func_container function join sentences in news."
   ]
  },
  {
   "cell_type": "markdown",
   "metadata": {},
   "source": [
    "func_lemma is a function of lemmatization. Lemmatization takes context into account and transforms the word into its meaningful basic form, rather than just deleting the last few characters as stemming. "
   ]
  },
  {
   "cell_type": "code",
   "execution_count": 9,
   "metadata": {},
   "outputs": [],
   "source": [
    "s=func_lemma(func_container(clear_text))"
   ]
  },
  {
   "cell_type": "markdown",
   "metadata": {},
   "source": [
    "Print 94 symbols from news"
   ]
  },
  {
   "cell_type": "code",
   "execution_count": 22,
   "metadata": {},
   "outputs": [
    {
     "name": "stdout",
     "output_type": "stream",
     "text": [
      "  президент  направлять председатель государственный дума геннадий селезнев заключение проект \n"
     ]
    }
   ],
   "source": [
    "print(s[0][:94])"
   ]
  },
  {
   "cell_type": "markdown",
   "metadata": {},
   "source": [
    "func_tokenize tokenize text into separate words."
   ]
  },
  {
   "cell_type": "code",
   "execution_count": 10,
   "metadata": {},
   "outputs": [],
   "source": [
    "w=func_tokenize(s) # w train dataset after preprocessing procedure"
   ]
  },
  {
   "cell_type": "markdown",
   "metadata": {},
   "source": [
    "10 words from news"
   ]
  },
  {
   "cell_type": "code",
   "execution_count": 10,
   "metadata": {},
   "outputs": [
    {
     "name": "stdout",
     "output_type": "stream",
     "text": [
      "['президент', 'направлять', 'председатель', 'государственный', 'дума', 'геннадий', 'селезнев', 'заключение', 'проект', 'федеральный']\n"
     ]
    }
   ],
   "source": [
    "print(w[0][:10])"
   ]
  },
  {
   "cell_type": "markdown",
   "metadata": {},
   "source": [
    "Preprocessing training data is finished"
   ]
  },
  {
   "cell_type": "markdown",
   "metadata": {},
   "source": [
    "# Create and train word2vec model"
   ]
  },
  {
   "cell_type": "markdown",
   "metadata": {},
   "source": [
    "w is a list of lists format. Word2Vec use parameters:  min_count=1,workers=6,size=300"
   ]
  },
  {
   "cell_type": "code",
   "execution_count": 15,
   "metadata": {},
   "outputs": [],
   "source": [
    "model = Word2Vec(w,min_count=1,workers=6,size=300)"
   ]
  },
  {
   "cell_type": "markdown",
   "metadata": {},
   "source": [
    "The most similar words to word 'дума'"
   ]
  },
  {
   "cell_type": "code",
   "execution_count": 16,
   "metadata": {},
   "outputs": [
    {
     "name": "stderr",
     "output_type": "stream",
     "text": [
      "C:\\Anaconda\\lib\\site-packages\\ipykernel_launcher.py:1: DeprecationWarning: Call to deprecated `most_similar` (Method will be removed in 4.0.0, use self.wv.most_similar() instead).\n",
      "  \"\"\"Entry point for launching an IPython kernel.\n"
     ]
    },
    {
     "data": {
      "text/plain": [
       "[('закон', '0.999872'),\n",
       " ('государственный', '0.999861'),\n",
       " ('федеральный', '0.999846'),\n",
       " ('орган', '0.999838'),\n",
       " ('правительство', '0.999813'),\n",
       " ('власть', '0.999808'),\n",
       " ('поправка', '0.999803'),\n",
       " ('конституция', '0.999797'),\n",
       " ('астраханский', '0.999792'),\n",
       " ('российский', '0.999787')]"
      ]
     },
     "execution_count": 16,
     "metadata": {},
     "output_type": "execute_result"
    }
   ],
   "source": [
    "[(result[0],'{:.6f}'.format(result[1])) for result in model.most_similar('дума')]"
   ]
  },
  {
   "cell_type": "markdown",
   "metadata": {},
   "source": [
    "The words are well suited to the keyword: правительство, президент, рф, год, бюджет,страна.\n",
    "For example, the word 'this' can generally be attributed to stop-words. But the word appeared here, as apparently it is not in the stop-words dictionary.\n",
    "The numbers opposite each word mean maximizing the cosine proximity between the word vectors (scalar product of vectors)\n",
    "The closer to 1, the closer the words are in meaning to each other\n"
   ]
  },
  {
   "cell_type": "markdown",
   "metadata": {},
   "source": [
    "Similarity between 2 words \"эстония\" \"рф\""
   ]
  },
  {
   "cell_type": "code",
   "execution_count": 17,
   "metadata": {},
   "outputs": [
    {
     "name": "stderr",
     "output_type": "stream",
     "text": [
      "C:\\Anaconda\\lib\\site-packages\\ipykernel_launcher.py:1: DeprecationWarning: Call to deprecated `similarity` (Method will be removed in 4.0.0, use self.wv.similarity() instead).\n",
      "  \"\"\"Entry point for launching an IPython kernel.\n"
     ]
    },
    {
     "data": {
      "text/plain": [
       "'0.999282'"
      ]
     },
     "execution_count": 17,
     "metadata": {},
     "output_type": "execute_result"
    }
   ],
   "source": [
    "'{:.6f}'.format(model.similarity('эстония', 'рф'))"
   ]
  },
  {
   "cell_type": "markdown",
   "metadata": {},
   "source": [
    "The result was interesting. It is interesting in that the words are close in the sense of the name of the countries. But the corpus of Russian news is used in such a way, the words should be far in meaning. Most likely, at that time, some state events took place between the countries and this was often covered in the media and therefore was reflected as a result"
   ]
  },
  {
   "cell_type": "markdown",
   "metadata": {},
   "source": [
    "# Validation word2vec model using test dataset "
   ]
  },
  {
   "cell_type": "code",
   "execution_count": 11,
   "metadata": {},
   "outputs": [],
   "source": [
    "path=r'lenta-ru-news.csv' # path to test dataset"
   ]
  },
  {
   "cell_type": "markdown",
   "metadata": {},
   "source": [
    "Load test dataset into DataFrame format. Use delimiter=',' and encoding='utf-8-sig'"
   ]
  },
  {
   "cell_type": "code",
   "execution_count": 12,
   "metadata": {},
   "outputs": [],
   "source": [
    "df = pd.read_csv(path,engine='python', delimiter=',',encoding = \"utf-8-sig\")"
   ]
  },
  {
   "cell_type": "markdown",
   "metadata": {},
   "source": [
    "Print all topics in test dataset"
   ]
  },
  {
   "cell_type": "code",
   "execution_count": 12,
   "metadata": {},
   "outputs": [
    {
     "data": {
      "text/plain": [
       "array(['Россия', 'Спорт', 'Путешествия', 'Мир', 'Бывший СССР',\n",
       "       'Интернет и СМИ', 'Силовые структуры', 'Экономика', 'Культура',\n",
       "       'Дом', 'Наука и техника', 'Из жизни', 'Ценности', 'Бизнес',\n",
       "       '69-я параллель', nan, 'Культпросвет ', 'Крым', 'Оружие',\n",
       "       'Легпром', 'МедНовости', 'Библиотека', 'ЧМ-2014', 'Сочи'],\n",
       "      dtype=object)"
      ]
     },
     "execution_count": 12,
     "metadata": {},
     "output_type": "execute_result"
    }
   ],
   "source": [
    "df['topic'].unique()"
   ]
  },
  {
   "cell_type": "markdown",
   "metadata": {},
   "source": [
    "The most interesting topics are:"
   ]
  },
  {
   "cell_type": "code",
   "execution_count": 28,
   "metadata": {},
   "outputs": [
    {
     "data": {
      "image/png": "[encoded data removed]",
      "text/plain": [
       "<Figure size 576x432 with 1 Axes>"
      ]
     },
     "metadata": {
      "needs_background": "light"
     },
     "output_type": "display_data"
    }
   ],
   "source": [
    "y_pos=np.arange(len(df['topic'].value_counts()))\n",
    "performance=df['topic'].value_counts()\n",
    "plt.figure(figsize=(8,6))\n",
    "plt.bar(y_pos,performance,align='center',alpha=0.5,color='g',width=0.8)\n",
    "plt.xticks(y_pos,df['topic'].value_counts().index.tolist(),rotation=90,size=15)\n",
    "plt.yticks(size=15)\n",
    "plt.xlabel('Topics',size=15)\n",
    "plt.ylabel('Number of news',size=15)\n",
    "plt.show()"
   ]
  },
  {
   "cell_type": "markdown",
   "metadata": {},
   "source": [
    "Thus, topics related with Россия and Мир news are more interested for people than Бизнес or Наука и техника news "
   ]
  },
  {
   "cell_type": "code",
   "execution_count": 29,
   "metadata": {},
   "outputs": [
    {
     "data": {
      "text/html": [
       "<div>\n",
       "<style scoped>\n",
       "    .dataframe tbody tr th:only-of-type {\n",
       "        vertical-align: middle;\n",
       "    }\n",
       "\n",
       "    .dataframe tbody tr th {\n",
       "        vertical-align: top;\n",
       "    }\n",
       "\n",
       "    .dataframe thead th {\n",
       "        text-align: right;\n",
       "    }\n",
       "</style>\n",
       "<table border=\"1\" class=\"dataframe\">\n",
       "  <thead>\n",
       "    <tr style=\"text-align: right;\">\n",
       "      <th></th>\n",
       "      <th>url</th>\n",
       "      <th>title</th>\n",
       "      <th>text</th>\n",
       "      <th>topic</th>\n",
       "      <th>tags</th>\n",
       "    </tr>\n",
       "  </thead>\n",
       "  <tbody>\n",
       "    <tr>\n",
       "      <th>0</th>\n",
       "      <td>https://lenta.ru/news/2018/12/14/cancer/</td>\n",
       "      <td>Названы регионы России с самой высокой смертно...</td>\n",
       "      <td>Вице-премьер по социальным вопросам Татьяна Го...</td>\n",
       "      <td>Россия</td>\n",
       "      <td>Общество</td>\n",
       "    </tr>\n",
       "    <tr>\n",
       "      <th>1</th>\n",
       "      <td>https://lenta.ru/news/2018/12/15/doping/</td>\n",
       "      <td>Австрия не представила доказательств вины росс...</td>\n",
       "      <td>Австрийские правоохранительные органы не предс...</td>\n",
       "      <td>Спорт</td>\n",
       "      <td>Зимние виды</td>\n",
       "    </tr>\n",
       "    <tr>\n",
       "      <th>2</th>\n",
       "      <td>https://lenta.ru/news/2018/12/15/disneyland/</td>\n",
       "      <td>Обнаружено самое счастливое место на планете</td>\n",
       "      <td>Сотрудники социальной сети Instagram проанализ...</td>\n",
       "      <td>Путешествия</td>\n",
       "      <td>Мир</td>\n",
       "    </tr>\n",
       "    <tr>\n",
       "      <th>3</th>\n",
       "      <td>https://lenta.ru/news/2018/12/15/usa25/</td>\n",
       "      <td>В США раскрыли сумму расходов на расследование...</td>\n",
       "      <td>С начала расследования российского вмешательст...</td>\n",
       "      <td>Мир</td>\n",
       "      <td>Политика</td>\n",
       "    </tr>\n",
       "    <tr>\n",
       "      <th>4</th>\n",
       "      <td>https://lenta.ru/news/2018/12/15/integrity/</td>\n",
       "      <td>Хакеры рассказали о планах Великобритании зами...</td>\n",
       "      <td>Хакерская группировка Anonymous опубликовала н...</td>\n",
       "      <td>Мир</td>\n",
       "      <td>Общество</td>\n",
       "    </tr>\n",
       "  </tbody>\n",
       "</table>\n",
       "</div>"
      ],
      "text/plain": [
       "                                            url  \\\n",
       "0      https://lenta.ru/news/2018/12/14/cancer/   \n",
       "1      https://lenta.ru/news/2018/12/15/doping/   \n",
       "2  https://lenta.ru/news/2018/12/15/disneyland/   \n",
       "3       https://lenta.ru/news/2018/12/15/usa25/   \n",
       "4   https://lenta.ru/news/2018/12/15/integrity/   \n",
       "\n",
       "                                               title  \\\n",
       "0  Названы регионы России с самой высокой смертно...   \n",
       "1  Австрия не представила доказательств вины росс...   \n",
       "2       Обнаружено самое счастливое место на планете   \n",
       "3  В США раскрыли сумму расходов на расследование...   \n",
       "4  Хакеры рассказали о планах Великобритании зами...   \n",
       "\n",
       "                                                text        topic         tags  \n",
       "0  Вице-премьер по социальным вопросам Татьяна Го...       Россия     Общество  \n",
       "1  Австрийские правоохранительные органы не предс...        Спорт  Зимние виды  \n",
       "2  Сотрудники социальной сети Instagram проанализ...  Путешествия          Мир  \n",
       "3  С начала расследования российского вмешательст...          Мир     Политика  \n",
       "4  Хакерская группировка Anonymous опубликовала н...          Мир     Общество  "
      ]
     },
     "execution_count": 29,
     "metadata": {},
     "output_type": "execute_result"
    }
   ],
   "source": [
    "df.head()"
   ]
  },
  {
   "cell_type": "raw",
   "metadata": {},
   "source": [
    "Let's take the first text from corpus"
   ]
  },
  {
   "cell_type": "code",
   "execution_count": 30,
   "metadata": {},
   "outputs": [
    {
     "data": {
      "text/plain": [
       "'Вице-премьер по социальным вопросам Татьяна Голикова рассказала, в каких регионах России зафиксирована наиболее высокая смертность от рака, сообщает РИА Новости. По словам Голиковой, чаще всего онкологические заболевания становились причиной смерти в Псковской, Тверской, Тульской и Орловской областях, а также в Севастополе. Вице-премьер напомнила, что главные факторы смертности в России — рак и болезни системы кровообращения. В начале года стало известно, что смертность от онкологических заболеваний среди россиян снизилась впервые за три года. По данным Росстата, в 2017 году от рака умерли 289 тысяч человек. Это на 3,5 процента меньше, чем годом ранее.'"
      ]
     },
     "execution_count": 30,
     "metadata": {},
     "output_type": "execute_result"
    }
   ],
   "source": [
    "df.loc[0,'text']"
   ]
  },
  {
   "cell_type": "markdown",
   "metadata": {},
   "source": [
    "Text has got stop words which add noise in data"
   ]
  },
  {
   "cell_type": "code",
   "execution_count": 13,
   "metadata": {},
   "outputs": [],
   "source": [
    "test_dataset=[]\n",
    "for text in df['text'][:100]: # take only 100 news from corpus\n",
    "    test_text=clean_text(text)\n",
    "    test_text=[''.join(word for word in test_text if not word=='')]\n",
    "    test_text=remove_stopwords(test_text)\n",
    "    test_text=func_lemma(test_text)\n",
    "    test_text=func_tokenize(test_text)\n",
    "    test_dataset.append(*test_text)"
   ]
  },
  {
   "cell_type": "markdown",
   "metadata": {},
   "source": [
    "Print words from first news"
   ]
  },
  {
   "cell_type": "code",
   "execution_count": 42,
   "metadata": {},
   "outputs": [
    {
     "name": "stdout",
     "output_type": "stream",
     "text": [
      "['вицепремьера', 'социальный', 'вопрос', 'татьяна', 'голикова', 'рассказывать', 'какой', 'регион', 'россия', 'зафиксировать', 'наиболее', 'высокий', 'смертность', 'рак', 'сообщать', 'риа', 'новость', 'по', 'слово', 'голикова', 'чаща', 'онкологический', 'заболевание', 'становиться', 'причина', 'смерть', 'псковский', 'тверская', 'тульский', 'орловский', 'область', 'также', 'севастополь', 'вицепремьера', 'напоминать', 'главный', 'фактор', 'смертность', 'россия', 'рак', 'болезнь', 'система', 'кровообращение', 'в', 'начало', 'год', 'становиться', 'известно', 'смертность', 'онкологический', 'заболевание', 'среди', 'россиянин', 'снижаться', 'впервые', 'год', 'по', 'данные', 'росстат', 'год', 'рак', 'умирать', 'тысяча', 'человек', 'это', 'процент', 'маленький', 'год', 'ранее']\n"
     ]
    }
   ],
   "source": [
    "print(test_dataset[0])"
   ]
  },
  {
   "cell_type": "markdown",
   "metadata": {},
   "source": [
    "The first word was unexpected.It was “вицепремьер”, but it became a “вицепремьера”? In pymystem3 library used model Mystem. This model converted word from “вицепремьер” to “вицепремьера” after lemmatization"
   ]
  },
  {
   "cell_type": "markdown",
   "metadata": {},
   "source": [
    "Data are ready for validation model"
   ]
  },
  {
   "cell_type": "markdown",
   "metadata": {},
   "source": [
    "Realization of word2vec model:\n",
    "\n",
    "model = Word2Vec(w,min_count=2,workers=6,size=300,window=3,hs=0,sg=1)"
   ]
  },
  {
   "cell_type": "code",
   "execution_count": 32,
   "metadata": {},
   "outputs": [],
   "source": [
    "model = Word2Vec(w,min_count=2,workers=6,size=300,window=3,hs=0,sg=1)"
   ]
  },
  {
   "cell_type": "markdown",
   "metadata": {},
   "source": [
    "Join vectors and words into dict structure"
   ]
  },
  {
   "cell_type": "code",
   "execution_count": 15,
   "metadata": {},
   "outputs": [
    {
     "name": "stderr",
     "output_type": "stream",
     "text": [
      "C:\\Anaconda\\lib\\site-packages\\ipykernel_launcher.py:6: DeprecationWarning: Call to deprecated `__getitem__` (Method will be removed in 4.0.0, use self.wv.__getitem__() instead).\n",
      "  \n"
     ]
    }
   ],
   "source": [
    "model_dict={}\n",
    "for text in test_dataset:\n",
    "    for word in text:  \n",
    "        word_vectors = model.wv\n",
    "        if word in word_vectors.vocab: # if word in vocab\n",
    "            model_dict.update({word:model[word]}) # add to dict\n",
    "        else:\n",
    "            continue"
   ]
  },
  {
   "cell_type": "markdown",
   "metadata": {},
   "source": [
    "Perhaps not all news words are transformed into vectors.\n",
    "due to min_count = 2, part of the words will be discarded since they are encountered less often min_count times in the corpus. also not all words from the test dataset are presented in the vocab"
   ]
  },
  {
   "cell_type": "markdown",
   "metadata": {},
   "source": [
    "save results"
   ]
  },
  {
   "cell_type": "code",
   "execution_count": 36,
   "metadata": {},
   "outputs": [
    {
     "name": "stdout",
     "output_type": "stream",
     "text": [
      "Writing 'model_dict' (dict) to file 'filename.txt'.\n"
     ]
    }
   ],
   "source": [
    "%store model_dict > filename.txt"
   ]
  },
  {
   "cell_type": "markdown",
   "metadata": {},
   "source": [
    "Transform test dataset. Take words of texts from test dataset if they are in vocab"
   ]
  },
  {
   "cell_type": "code",
   "execution_count": 16,
   "metadata": {},
   "outputs": [
    {
     "name": "stderr",
     "output_type": "stream",
     "text": [
      "C:\\Anaconda\\lib\\site-packages\\ipykernel_launcher.py:3: DeprecationWarning: Call to deprecated `__getitem__` (Method will be removed in 4.0.0, use self.wv.__getitem__() instead).\n",
      "  This is separate from the ipykernel package so we can avoid doing imports until\n"
     ]
    }
   ],
   "source": [
    "transform_corpus=[]\n",
    "for text in test_dataset:\n",
    "    transform_corpus.append([model[word] for word in text if word in model.wv.vocab])"
   ]
  },
  {
   "cell_type": "markdown",
   "metadata": {},
   "source": [
    "For classification, LogisticRegression,RandomForest,SVM are used.\n",
    "For example, accuracy_score metric is used"
   ]
  },
  {
   "cell_type": "code",
   "execution_count": 61,
   "metadata": {},
   "outputs": [],
   "source": [
    "# list of classification models\n",
    "clfs=[LogisticRegression(multi_class='multinomial',solver='sag', max_iter=1000),SVC(kernel='poly', gamma='scale', coef0=1, degree=3),RandomForestClassifier(n_estimators=400)]\n",
    "\n",
    "def classification_models(X,y):\n",
    "    ans=[]\n",
    "    X_train, X_test, y_train, y_test=train_test_split(X,y,test_size=0.2,shuffle=True)\n",
    "    for number,method in enumerate(clfs):\n",
    "        method.fit(X_train,y_train)\n",
    "        ans.append('Classifier %d: accuracy score: %.3f' % (number,accuracy_score(y_test,method.predict(X_test))))\n",
    "    return ans"
   ]
  },
  {
   "cell_type": "markdown",
   "metadata": {},
   "source": [
    "MeanEmbeddingVectorizer class return mean of word vectors in text"
   ]
  },
  {
   "cell_type": "code",
   "execution_count": 59,
   "metadata": {},
   "outputs": [
    {
     "data": {
      "text/plain": [
       "['Classifier 0: accuracy score: 0.650',\n",
       " 'Classifier 1: accuracy score: 0.650',\n",
       " 'Classifier 2: accuracy score: 0.700']"
      ]
     },
     "execution_count": 59,
     "metadata": {},
     "output_type": "execute_result"
    }
   ],
   "source": [
    "X=MeanEmbeddingVectorizer(model_dict).transform(transform_corpus)\n",
    "classification_models(X,df['topic'][:100])"
   ]
  },
  {
   "cell_type": "markdown",
   "metadata": {},
   "source": [
    "TfidfEmbeddingVectorizer class return weighted average of words"
   ]
  },
  {
   "cell_type": "code",
   "execution_count": 62,
   "metadata": {},
   "outputs": [
    {
     "data": {
      "text/plain": [
       "['Classifier 0: accuracy score: 0.800',\n",
       " 'Classifier 1: accuracy score: 0.850',\n",
       " 'Classifier 2: accuracy score: 0.850']"
      ]
     },
     "execution_count": 62,
     "metadata": {},
     "output_type": "execute_result"
    }
   ],
   "source": [
    "X1=TfidfEmbeddingVectorizer(model_dict).fit(test_dataset,df['topic'][:100]).transform(test_dataset)\n",
    "classification_models(X1,df['topic'][:100])"
   ]
  },
  {
   "cell_type": "markdown",
   "metadata": {},
   "source": [
    "From the results it follows that a weighted average of words (TfidfEmbeddingVectorizer) gives better results than simple averaging of words vectors (MeanEmbeddingVectorizer)"
   ]
  },
  {
   "cell_type": "markdown",
   "metadata": {},
   "source": [
    "The PCA is implemented to visualize the resulting vectors. Each word uses a dimension of 300. PCA allows us to reduce the number of components, which allows us to get new components in all directions with different dispersions (data scatter)"
   ]
  },
  {
   "cell_type": "code",
   "execution_count": 20,
   "metadata": {},
   "outputs": [
    {
     "name": "stderr",
     "output_type": "stream",
     "text": [
      "C:\\Anaconda\\lib\\site-packages\\ipykernel_launcher.py:1: DeprecationWarning: Call to deprecated `__getitem__` (Method will be removed in 4.0.0, use self.wv.__getitem__() instead).\n",
      "  \"\"\"Entry point for launching an IPython kernel.\n",
      "C:\\Anaconda\\lib\\site-packages\\ipykernel_launcher.py:2: DeprecationWarning: Call to deprecated `__getitem__` (Method will be removed in 4.0.0, use self.wv.__getitem__() instead).\n",
      "  \n"
     ]
    },
    {
     "data": {
      "image/png": "[encoded data removed]",
      "text/plain": [
       "<Figure size 432x288 with 1 Axes>"
      ]
     },
     "metadata": {
      "needs_background": "light"
     },
     "output_type": "display_data"
    }
   ],
   "source": [
    "X = model[list(model_dict.keys())[:8]] # take only first 8 words\n",
    "y=model[df.loc[0,'topic'].lower()] \n",
    "data=np.vstack((X,y)) # join words from text and topic\n",
    "pca = PCA(n_components=2) # 2 components\n",
    "result = pca.fit_transform(X)\n",
    "colors=[*(['b']*7),'r'] \n",
    "# output results\n",
    "plt.scatter(result[:, 0], result[:, 1],c=colors)\n",
    "words = list(model_dict.keys())[:8]\n",
    "\n",
    "for i, word in enumerate(words):\n",
    "    plt.annotate(word, xy=(result[i, 0], result[i, 1]),size=12)\n",
    "\n",
    "plt.xticks(size=15)\n",
    "plt.yticks(size=15)\n",
    "plt.xlabel('X1 component',size=15)\n",
    "plt.ylabel('X2 component',size=15)\n",
    "plt.show()"
   ]
  },
  {
   "cell_type": "markdown",
   "metadata": {},
   "source": [
    "Words are located a short distance from the label \"Россия.\" The closest to the title of the topic are the words \"регион\" and \"вопрос.\""
   ]
  },
  {
   "cell_type": "code",
   "execution_count": 148,
   "metadata": {},
   "outputs": [
    {
     "name": "stdout",
     "output_type": "stream",
     "text": [
      "Writing 'model_dict' (dict) to file 'model1.txt'.\n"
     ]
    }
   ],
   "source": [
    "%store model_dict > model1.txt"
   ]
  }
 ],
 "metadata": {
  "kernelspec": {
   "display_name": "Python 3",
   "language": "python",
   "name": "python3"
  },
  "language_info": {
   "codemirror_mode": {
    "name": "ipython",
    "version": 3
   },
   "file_extension": ".py",
   "mimetype": "text/x-python",
   "name": "python",
   "nbconvert_exporter": "python",
   "pygments_lexer": "ipython3",
   "version": "3.7.1"
  }
 },
 "nbformat": 4,
 "nbformat_minor": 2
}
